{
  "nbformat": 4,
  "nbformat_minor": 0,
  "metadata": {
    "colab": {
      "provenance": []
    },
    "kernelspec": {
      "name": "python3",
      "display_name": "Python 3"
    },
    "language_info": {
      "name": "python"
    }
  },
  "cells": [
    {
      "cell_type": "markdown",
      "source": [
        "# Вариант 2\n",
        "\n",
        "1. построить модель линейной регрессии с указанными параметрами своими средствами (вместе со свободным коэффициентом), то есть пользоваться готовыми линейными моделями нельзя (максимум – для сравнения своего результата с готовой реализации, плюс можно использовать NumPy для матричных вычислений или специальные функции, решающие оптимизационные задачи);\n",
        "2. рассчитать оценки наименьших квадратов для параметров и остаточной дисперсии;\n",
        "3. вычислить коэффициент детерминации;\n",
        "4. построить доверительные интервалы для параметров модели и остаточной дисперсии;\n",
        "\n",
        "\n",
        "Зависимая переменная – цена, предикторы – мощность, емкость бензобака, расход топлива в город\n"
      ],
      "metadata": {
        "id": "hrKCsA-MySjG"
      }
    },
    {
      "cell_type": "code",
      "execution_count": 2,
      "metadata": {
        "colab": {
          "base_uri": "https://localhost:8080/"
        },
        "id": "ENWbC3L7xaVz",
        "outputId": "d09c6394-8c29-45b9-b700-86cc2d1ccc7a"
      },
      "outputs": [
        {
          "output_type": "stream",
          "name": "stdout",
          "text": [
            "Вектор параметров вычисленный самостоятельно: [-0.21153346  0.13197168 -0.12880216  5.60314185]\n",
            "Вектор параметров вычисленный при помощи библиотеки: [-0.21153346  0.13197168 -0.12880216  5.60314185]\n",
            "Коэффициент детерминации: 0.628928390835737\n",
            "Оценка дисперсии: 35.39207325889215\n",
            "Доверительные итнервалы для параметров модели:\n",
            "[-0.5400157402149558, 0.11694882978844046]\n",
            "[0.09553403363791829, 0.16840932913785156]\n",
            "[-2.0619262124869526, 1.8043218927749733]\n",
            "[-6.244693784029669, 17.450977492835815]\n",
            "Доверительный интервал для остаточной дисперсии:\n",
            "26.96290284230023 48.521716897140806\n"
          ]
        }
      ],
      "source": [
        "import numpy as np\n",
        "import pandas as pd\n",
        "from scipy.stats import t, chi2\n",
        "from sklearn.linear_model import LinearRegression\n",
        "import matplotlib.pyplot as plt\n",
        "\n",
        "\n",
        "data = pd.read_csv(\"cars93.csv\")\n",
        "dependent_var = np.array(data[\"Price\"])\n",
        "independent_vars = np.array([data[\"MPG.city\"], data[\"Horsepower\"], data[\"Fuel.tank.capacity\"], np.ones(len(dependent_var))]).T\n",
        "\n",
        "# Находим коэффициенты методом наименьших квадратов для линейной регрессии\n",
        "coeffs = np.linalg.inv(independent_vars.T @ independent_vars) @ independent_vars.T @ dependent_var\n",
        "print(\"Вектор параметров вычисленный самостоятельно:\", coeffs)\n",
        "\n",
        "\n",
        "# Готовая реализация\n",
        "model = LinearRegression().fit(independent_vars, dependent_var)\n",
        "print(\"Вектор параметров вычисленный при помощи библиотеки:\", np.concatenate((model.coef_[:-1],  np.array([model.intercept_]))))\n",
        "# print(model.score(independent_vars, dependent_var))\n",
        "\n",
        "\n",
        "m = 3\n",
        "n = len(data)\n",
        "ss_tot = np.sum((dependent_var - np.mean(dependent_var))**2) # Общая сумма квадратов\n",
        "ss_reg = np.sum((np.dot(coeffs, independent_vars.T) - np.mean(dependent_var))**2) # Объясненная сумма квадратов\n",
        "ss_res = ss_tot - ss_reg # Сумма квадратов остатков регрессии\n",
        "varince = ss_res / (n - m)\n",
        "print(\"Коэффициент детерминации:\", ss_reg / ss_tot)\n",
        "print(\"Оценка дисперсии:\", varince)\n",
        "\n",
        "# Вычисление ковариантной матирцы\n",
        "cov_matrix = np.linalg.inv(independent_vars.T @ independent_vars)\n",
        "standart_errors = np.sqrt(varince * np.diag(cov_matrix))\n",
        "\n",
        "# Вычисление критических точек\n",
        "alpha = 0.05\n",
        "t_value = abs(t.ppf(alpha / 2, n - m))\n",
        "print(\"Доверительные итнервалы для параметров модели:\")\n",
        "\n",
        "for i in range(len(coeffs)):\n",
        "    print([coeffs[i] - standart_errors[i] * t_value, coeffs[i] + standart_errors[i] * t_value])\n",
        "\n",
        "print(\"Доверительный интервал для остаточной дисперсии:\")\n",
        "print(varince * (n - m) / chi2.ppf(1 - alpha / 2, n - m), varince * (n - m) / chi2.ppf(alpha / 2, n - m))\n"
      ]
    }
  ]
}